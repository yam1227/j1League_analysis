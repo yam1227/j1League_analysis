{
 "cells": [
  {
   "cell_type": "markdown",
   "id": "0ebaa985-da90-4655-9f54-2130df0917c0",
   "metadata": {},
   "source": [
    "# 利用可能なフィクスチャーのステータス\n",
    "* TBD : 時間未定\n",
    "* NS ： 未スタート\n",
    "* 1H : 前半キックオフ\n",
    "* HT : ハーフタイム\n",
    "* 2H : 後半開始\n",
    "* ET : 延長時間\n",
    "* P : ペナルティ・イン・プログレス\n",
    "* FT : 試合終了\n",
    "* AET : 延長時間終了後\n",
    "* PEN : ペナルティ後の試合終了\n",
    "* BT : 休憩時間（延長戦中）\n",
    "* SUSP : 試合中断\n",
    "* INT : 試合中断\n",
    "* PST : 試合延期\n",
    "* CANC : 試合中止\n",
    "* ABD : 試合放棄\n",
    "* AWD : テクニカルロス\n",
    "* WO : ウォークオーバー<br>\n",
    "### fixture_idについて\n",
    " - 審判名\n",
    " - タイムゾーン\n",
    " - 試合開催時刻\n",
    " - タイムスタンプ\n",
    "上記4項目をセットにしたものに対して割り振ったidの名称。これだけの情報を与えると、ダブらないため、試合ごとに一意のidを割り振れる<br>"
   ]
  },
  {
   "cell_type": "code",
   "execution_count": 2,
   "id": "c9793673-5f2c-4ba2-945c-938a4e06ddbf",
   "metadata": {},
   "outputs": [],
   "source": [
    "import requests\n",
    "import pandas as pd\n",
    "from pandas import json_normalize"
   ]
  },
  {
   "cell_type": "markdown",
   "id": "380e8191-aa40-4e2a-88b2-e1b64b3a6f2a",
   "metadata": {},
   "source": [
    "## 一年分だけ"
   ]
  },
  {
   "cell_type": "code",
   "execution_count": 3,
   "id": "ec0471ee-612d-4a39-bd73-8304492a83a5",
   "metadata": {},
   "outputs": [],
   "source": [
    "url = \"https://api-football-v1.p.rapidapi.com/v3/fixtures\"\n",
    "\n",
    "headers = {\n",
    "\t\"X-RapidAPI-Key\": \"xxxx\",\n",
    "\t\"X-RapidAPI-Host\": \"api-football-v1.p.rapidapi.com\"\n",
    "}\n",
    "querystring = {\"league\":\"98\",\"season\":2023}\n",
    "response = requests.get(url, headers=headers, params=querystring)\n",
    "res = response.json()"
   ]
  },
  {
   "cell_type": "code",
   "execution_count": 4,
   "id": "5954cfed-935f-47ac-96a1-7b2a6d9b7a7d",
   "metadata": {},
   "outputs": [],
   "source": [
    "df_fixture = json_normalize(res['response'])\n",
    "df_fixture.to_csv('../../api_data/fixtures/fixtures_2023.csv', index=False)"
   ]
  },
  {
   "cell_type": "markdown",
   "metadata": {},
   "source": [
    "## 複数年分を一括取得"
   ]
  },
  {
   "cell_type": "code",
   "execution_count": 17,
   "id": "bffe524d-1b81-4d2e-a50c-597fd9b963d4",
   "metadata": {},
   "outputs": [
    {
     "name": "stdout",
     "output_type": "stream",
     "text": [
      "2016\n",
      "2017\n",
      "2018\n",
      "2019\n",
      "2020\n",
      "2021\n",
      "2022\n",
      "2023\n"
     ]
    }
   ],
   "source": [
    "url = \"https://api-football-v1.p.rapidapi.com/v3/fixtures\"\n",
    "\n",
    "headers = {\n",
    "\t\"X-RapidAPI-Key\": \"xxxx\",\n",
    "\t\"X-RapidAPI-Host\": \"api-football-v1.p.rapidapi.com\"\n",
    "}\n",
    "res = [0]*8\n",
    "for i in range(2016,2024):\n",
    "    querystring = {\"league\":\"98\",\"season\":i}\n",
    "    response = requests.get(url, headers=headers, params=querystring)\n",
    "    res[i-2016] = response.json()"
   ]
  },
  {
   "cell_type": "code",
   "execution_count": 42,
   "id": "e64cc660-ccf7-48e1-a130-037a4fa41717",
   "metadata": {
    "scrolled": true
   },
   "outputs": [],
   "source": [
    "for i in range(8):\n",
    "    df_fixture = json_normalize(res[i]['response'])\n",
    "    file_name = f\"fixtures_{i+2016}.csv\"\n",
    "    df_fixture.to_csv('C:/python/soccer_statistics/api_data/fixtures/' + file_name, index=False)"
   ]
  }
 ],
 "metadata": {
  "kernelspec": {
   "display_name": "Python 3 (ipykernel)",
   "language": "python",
   "name": "python3"
  },
  "language_info": {
   "codemirror_mode": {
    "name": "ipython",
    "version": 3
   },
   "file_extension": ".py",
   "mimetype": "text/x-python",
   "name": "python",
   "nbconvert_exporter": "python",
   "pygments_lexer": "ipython3",
   "version": "3.11.5"
  }
 },
 "nbformat": 4,
 "nbformat_minor": 5
}
