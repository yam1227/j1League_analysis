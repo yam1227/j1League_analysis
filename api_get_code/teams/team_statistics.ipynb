{
 "cells": [
  {
   "cell_type": "markdown",
   "id": "9bdbcdc9-0d9a-4ab8-a9a7-6550d7280ab2",
   "metadata": {},
   "source": [
    "# チーム統計\n",
    "指定された大会および、シーズンに関するチームの統計情報を返却する<br>\n",
    "シーズンに関して、チームがプレーした全ゲームのデータの統計を返す<br>\n",
    "->チームidも必要"
   ]
  },
  {
   "cell_type": "code",
   "execution_count": 1,
   "id": "bd81c68a-bba4-4790-9233-2c4daf66425d",
   "metadata": {},
   "outputs": [],
   "source": [
    "import requests\n",
    "import pandas as pd\n",
    "import numpy as np\n",
    "from time import sleep\n",
    "from pandas import json_normalize"
   ]
  },
  {
   "cell_type": "markdown",
   "metadata": {},
   "source": [
    "## 一年分のデータのみ取得する場合"
   ]
  },
  {
   "cell_type": "code",
   "execution_count": 19,
   "metadata": {},
   "outputs": [],
   "source": [
    "#パラメータとして、チームIdが必要。\n",
    "# 取得済みのfixtures_YYYY.csvにシーズン別の試合結果が格納さている。その記録のうち、チームidのみリストとして取得する\n",
    "df_fixtures = pd.read_csv('../../api_data/fixtures/fixtures_2023.csv')\n",
    "teams = np.sort(df_fixtures['teams.home.id'].unique())"
   ]
  },
  {
   "cell_type": "code",
   "execution_count": 14,
   "metadata": {},
   "outputs": [],
   "source": [
    "res = []\n",
    "url = \"https://api-football-v1.p.rapidapi.com/v3/teams/statistics\"\n",
    "\n",
    "headers = {\n",
    "\t\"X-RapidAPI-Key\": \"xxxx\",\n",
    "\t\"X-RapidAPI-Host\": \"api-football-v1.p.rapidapi.com\"\n",
    "}\n",
    "\n",
    "for i, id in enumerate(teams):\n",
    "    # seisonに対象シーズン、teamに対象チームのidを格納\n",
    "    querystring = {\"league\":\"98\",\"season\":2023,\"team\":id}\n",
    "    response = requests.get(url, headers=headers, params=querystring)\n",
    "    res.append(response.json())\n"
   ]
  },
  {
   "cell_type": "code",
   "execution_count": 16,
   "metadata": {},
   "outputs": [],
   "source": [
    "for i, id in enumerate(teams):\n",
    "    if i == 0:\n",
    "        df_status = json_normalize(res[i]['response'])\n",
    "    else :\n",
    "        df_status = pd.concat([df_status, json_normalize(res[i]['response'])])\n",
    "    #2,lineups情報がリスト化されているため、df化\n",
    "    # 2-1, lineupsに辞書で格納されているデータを辞書ごと・チーム別にスケールアップ。(explode)\n",
    "    # 2-2, indexがチームごとに割り振られているため、リセット(reset_index(drop=True))\n",
    "    df_lineup = df_status.reset_index(drop=True).explode('lineups', ignore_index=False)\\\n",
    "                    .reset_index(drop=True)\n",
    "    # 2-3, 辞書を分解したときに発生するデータを格納するカラムを生成\n",
    "    df_lineup[['formation','played']] = '0'\n",
    "    # 2-4, 辞書型のデータをインデックスごとに分解・代入\n",
    "    df_lineup[['formation','played']] = df_lineup['lineups'].apply(pd.Series)\n",
    "    # 2-5. 分解した辞書列は必要ないため削除\n",
    "    df_lineup = df_lineup.drop(columns='lineups')\n",
    "    # 2-6. csvとして、データの保存\n",
    "    df_lineup.to_csv(\"../../api_data/statistics/team/team_statistics_2023.csv\")"
   ]
  },
  {
   "cell_type": "markdown",
   "metadata": {},
   "source": [
    "## 複数年のデータを一括取得する場合"
   ]
  },
  {
   "cell_type": "code",
   "execution_count": 2,
   "id": "4b5d7ce8-d24f-40de-93c5-140a612c3d32",
   "metadata": {},
   "outputs": [],
   "source": [
    "#teams配列に、シーズンごとのj1在籍チームを保有する。シーズンはすべてで8つあるため0配列を8つ作成\n",
    "teams = [0]*8\n",
    "for i in range(2016, 2024):\n",
    "    # 取得済みのfixtures_YYYY.csvにシーズン別の試合結果が格納されている。その記録のうち、チームidのみリストとして取得する\n",
    "    file_name = f\"fixtures_{i}.csv\"\n",
    "    df_fixtures = pd.read_csv('C:/python/soccer_statistics/api_data/fixtures/' + file_name)\n",
    "    teams[i-2016] = np.sort(df_fixtures['teams.home.id'].unique())"
   ]
  },
  {
   "cell_type": "code",
   "execution_count": 3,
   "id": "ea79636a-8ad9-4b9d-bbff-c07ae37a3851",
   "metadata": {},
   "outputs": [],
   "source": [
    "# シーズン数 * チーム数の０行列を作成\n",
    "res = [[0]*20]*8\n",
    "url = \"https://api-football-v1.p.rapidapi.com/v3/teams/statistics\"\n",
    "\n",
    "headers = {\n",
    "\t\"X-RapidAPI-Key\": \"xxxx\",\n",
    "\t\"X-RapidAPI-Host\": \"api-football-v1.p.rapidapi.com\"\n",
    "}\n",
    "\n",
    "for i in range(len(teams)):\n",
    "    for j in range(len(teams[i])):\n",
    "        # seisonに対象シーズン、teamに対象チームのidを格納\n",
    "        querystring = {\"league\":\"98\",\"season\":i+2016,\"team\":teams[i][j]}\n",
    "        response = requests.get(url, headers=headers, params=querystring)\n",
    "        res[i][j] = response.json()\n",
    "    #api呼び出し回数が毎分30回までであるため、待機\n",
    "    sleep(61)"
   ]
  },
  {
   "cell_type": "code",
   "execution_count": 4,
   "id": "dd8da5be-1c56-47eb-bbe3-4de4d7f06429",
   "metadata": {},
   "outputs": [],
   "source": [
    "for i in range(len(teams)):\n",
    "    #1,シーズンごとのチーム詳細のデータフレーム化\n",
    "    for j in range(len(teams[i])):\n",
    "        if i == 0:\n",
    "            if j == 0:\n",
    "                df_status = json_normalize(res[i][j]['response'])\n",
    "            else :\n",
    "                df_status = \\\n",
    "                pd.concat([df_status, json_normalize(res[i][j]['response'])])\n",
    "    #2,lineups情報がリスト化されているため、df化\n",
    "    # 2-1, lineupsに辞書で格納されているデータを辞書ごと・チーム別にスケールアップ。(explode)\n",
    "    # 2-2, indexがチームごとに割り振られているため、リセット(reset_index(drop=True))\n",
    "    df_lineup = df_status.reset_index(drop=True).explode('lineups', ignore_index=False)\\\n",
    "                    .reset_index(drop=True)\n",
    "    # 2-3, 辞書を分解したときに発生するデータを格納するカラムを生成\n",
    "    df_lineup[['formation','played']] = '0'\n",
    "    # 2-4, 辞書型のデータをインデックスごとに分解・代入\n",
    "    df_lineup[['formation','played']] = df_lineup['lineups'].apply(pd.Series)\n",
    "    # 2-5. 分解した辞書列は必要ないため削除\n",
    "    df_lineup = df_lineup.drop(columns='lineups')\n",
    "    # 2-6. csvとして、データの保存\n",
    "    file_name = f\"team_statistics_{i+2016}.csv\"\n",
    "    df_lineup.to_csv(\"../../api_data/statistics/team/\" + file_name,index=False)"
   ]
  },
  {
   "cell_type": "code",
   "execution_count": null,
   "id": "428871f9-6df5-468d-923d-cbd0fca2b05c",
   "metadata": {},
   "outputs": [],
   "source": []
  },
  {
   "cell_type": "code",
   "execution_count": null,
   "metadata": {},
   "outputs": [],
   "source": []
  }
 ],
 "metadata": {
  "kernelspec": {
   "display_name": "Python 3 (ipykernel)",
   "language": "python",
   "name": "python3"
  },
  "language_info": {
   "codemirror_mode": {
    "name": "ipython",
    "version": 3
   },
   "file_extension": ".py",
   "mimetype": "text/x-python",
   "name": "python",
   "nbconvert_exporter": "python",
   "pygments_lexer": "ipython3",
   "version": "3.11.5"
  }
 },
 "nbformat": 4,
 "nbformat_minor": 5
}
