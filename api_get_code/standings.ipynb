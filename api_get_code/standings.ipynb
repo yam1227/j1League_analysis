{
 "cells": [
  {
   "cell_type": "markdown",
   "id": "3610ea70-38bb-4b09-8b7e-a7166f798f17",
   "metadata": {},
   "source": [
    "# 順位データ\n",
    "### csvに編集済み\n",
    "リーグまたはチームの順位を取得する。<br>\n",
    "リーグ／カップに応じた1つまたは複数のランキング表を返します。<br>\n",
    "大会によっては、グループリーグ、開幕順位、閉幕順位など、1年間に複数の順位があります。<br>\n",
    "リクエストサンプルの「ユースケース」に例があります。<br>\n",
    "このエンドポイントのパラメータのほとんどは、一緒に使用することができます。<br>\n",
    "### 注意点\n",
    "**2016年の順位表のみ、戦歴が1クールのみとなっているため注意**<br>\n",
    "**データが新しくなるにつれ、カラムが増えていくため、データを用いる際にはよく考察する**"
   ]
  },
  {
   "cell_type": "code",
   "execution_count": 2,
   "id": "e55e9d8b-7ae6-403b-8d64-08f6c4f85f22",
   "metadata": {},
   "outputs": [],
   "source": [
    "import requests\n",
    "import pandas as pd\n",
    "from pandas import json_normalize"
   ]
  },
  {
   "cell_type": "code",
   "execution_count": null,
   "id": "6078d6e0-ff17-44f1-a20c-10cc14641f94",
   "metadata": {},
   "outputs": [],
   "source": [
    "url = \"https://api-football-v1.p.rapidapi.com/v3/standings\"\n",
    "\n",
    "# 複数年度取得したい場合\n",
    "headers = {\n",
    "\t\"X-RapidAPI-Key\": \"xxxx\",\n",
    "\t\"X-RapidAPI-Host\": \"api-football-v1.p.rapidapi.com\"\n",
    "}\n",
    "# 8シーズン分データを格納するため配列を作成\n",
    "res = [0] *8\n",
    "\n",
    "# 2016~2023の対戦データを、一括で取得\n",
    "for i in range(2016,2024):\n",
    "    querystring = {\"season\":i,\"league\":\"98\"}\n",
    "    response = requests.get(url, headers=headers, params=querystring)\n",
    "    # responsをjson形式で格納\n",
    "    res[i-2016] = response.json()\n"
   ]
  },
  {
   "cell_type": "code",
   "execution_count": null,
   "id": "ad5f5b4c-5a5e-4e75-817a-3ad39b9382d7",
   "metadata": {},
   "outputs": [],
   "source": [
    "# responsにはleagueデータとstaindingデータがある。\n",
    "# standingのみ取得する。\n",
    "\n",
    "# 複数年取得した場合\n",
    "for i in range(8):\n",
    "    res_stanind = res[i]['response'][0]['league']['standings'][0]\n",
    "    df_standing = json_normalize(res_stanind)\n",
    "    df_standing.dropna(axis=1).drop(columns={'update'})\n",
    "    # f文字列（f-string）の機能を用いる\n",
    "    # file_name = f\"file_{i}.csv\"\n",
    "    file_name = f\"standing_{i+2016}.csv\"\n",
    "    df_standing.to_csv('../api_data/standing/' + file_name,index=False)"
   ]
  },
  {
   "cell_type": "code",
   "execution_count": 3,
   "metadata": {},
   "outputs": [],
   "source": [
    "url = \"https://api-football-v1.p.rapidapi.com/v3/standings\"\n",
    "\n",
    "# 一年分のデータのみ取得する場合\n",
    "headers = {\n",
    "\t\"X-RapidAPI-Key\": \"xxxx\",\n",
    "\t\"X-RapidAPI-Host\": \"api-football-v1.p.rapidapi.com\"\n",
    "}\n",
    "# 8シーズン分データを格納するため配列を作成\n",
    "res = 0\n",
    "querystring = {\"season\":2023,\"league\":\"98\"}\n",
    "response = requests.get(url, headers=headers, params=querystring)\n",
    "# responsをjson形式で格納\n",
    "res = response.json()"
   ]
  },
  {
   "cell_type": "code",
   "execution_count": 4,
   "id": "d94a44e0-b0e5-4ef2-a480-cd6cbcd5ff16",
   "metadata": {},
   "outputs": [],
   "source": [
    "# 一年分取得した場合\n",
    "res_stanind = res['response'][0]['league']['standings'][0]\n",
    "df_standing = json_normalize(res_stanind)\n",
    "df_standing = df_standing.dropna(axis=1).drop(columns={'update'})\n",
    "df_standing.to_csv('../api_data/standing/stainding_2023.csv',index=False)"
   ]
  },
  {
   "cell_type": "code",
   "execution_count": null,
   "metadata": {},
   "outputs": [],
   "source": []
  }
 ],
 "metadata": {
  "kernelspec": {
   "display_name": "sk_py311",
   "language": "python",
   "name": "python3"
  },
  "language_info": {
   "codemirror_mode": {
    "name": "ipython",
    "version": 3
   },
   "file_extension": ".py",
   "mimetype": "text/x-python",
   "name": "python",
   "nbconvert_exporter": "python",
   "pygments_lexer": "ipython3",
   "version": "3.11.5"
  }
 },
 "nbformat": 4,
 "nbformat_minor": 5
}
