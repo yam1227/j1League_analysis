{
 "cells": [
  {
   "cell_type": "markdown",
   "metadata": {},
   "source": [
    "# 2023年のチームスタイルの指標を取得する\n",
    "[FootballLab](https://www.football-lab.jp/summary/team_style/j1/?year=2023)"
   ]
  },
  {
   "cell_type": "code",
   "execution_count": 14,
   "metadata": {},
   "outputs": [],
   "source": [
    "import pandas as pd\n",
    "import numpy as np\n",
    "from collections import OrderedDict\n",
    "\n",
    "import re\n",
    "import requests\n",
    "from bs4 import BeautifulSoup\n",
    "import time"
   ]
  },
  {
   "cell_type": "code",
   "execution_count": 15,
   "metadata": {},
   "outputs": [],
   "source": [
    "#urlを変数に格納\n",
    "url = \"https://www.football-lab.jp/summary/team_style/j1/?year=2023\"\n",
    "\n",
    "#HTMLを取得して変数に格納\n",
    "match_html = requests.get(url).text\n",
    "\n",
    "# 取得したHTMLデータを変数に格納\n",
    "## html.parser：htmlタグの解析と、データの取得ができる\n",
    "soup = BeautifulSoup(match_html, 'html.parser')"
   ]
  },
  {
   "cell_type": "code",
   "execution_count": 27,
   "metadata": {},
   "outputs": [],
   "source": [
    "# 指数一覧表から、（href属性で\"s=\"を持つ箇所を対象に18*8(144)セル分だけデータを取り出す\n",
    "data_param = soup.find_all(href=re.compile(\"s=\"))\n",
    "\n",
    "# 長さ144のリストを用意\n",
    "param_list = [0]*144\n",
    "for i in range(144):\n",
    "    # 順にテキスト部分のみ格納する\n",
    "    param_list[i] = int(data_param[i].text)\n",
    "#18*8に成型したものをデータフレームにする。チーム名と結合するため、インデックスを作成する\n",
    "df_params = pd.DataFrame(np.reshape(param_list, (18,8)),\n",
    "                         columns=[\n",
    "                         'atk.set.play',\n",
    "                         'left.side.attack',\n",
    "                         'center.attack',\n",
    "                         'right.side.attack',\n",
    "                         'short.counter',\n",
    "                         'long.counter',\n",
    "                         'enemy.camp.possession',\n",
    "                         'self.camp.possession'\n",
    "                         ]).reset_index()"
   ]
  },
  {
   "cell_type": "code",
   "execution_count": 4,
   "metadata": {},
   "outputs": [],
   "source": [
    "# aタグを用いられたhtmlをリスト形式ですべて取得\n",
    "data_teams = soup.find_all(\"a\")\n",
    "# ベースURLを格納する\n",
    "teams_url_dom = data_teams[0].get('href')\n",
    "# '/'で始まり、'/'で終わるhref属性のみ(パスコンポーネント)をリストに格納\n",
    "# 先頭の条件部分は、href属性が存在しないaタグがあってもエラーが発生しないようにする対応\n",
    "teams_path_list = \\\n",
    "    [team.get('href') for team in data_teams \\\n",
    "        if team.get('href') \\\n",
    "            and team.get('href').startswith('/') \\\n",
    "            and team.get('href').endswith('/')]\n",
    "    \n",
    "# 必要な部分のみスライス、重複の除去\n",
    "# インデックスを基準にパラメータのデータフレームと結合させる必要がある\n",
    "# 順序は変えたくないよう、forの外側で処理\n",
    "teams_path_list = teams_path_list[81:115]\n",
    "teams_path_list = list(OrderedDict.fromkeys(teams_path_list))\n",
    "# チーム名を追加するため、空のリストを用意\n",
    "team_list = []\n",
    "# 取得したしたベースurlとチームごとのパスを用いて、\n",
    "# チームごとのページから英名でチームを取得する\n",
    "for i in range(len(teams_path_list)):\n",
    "    # チームごとのurlを生成する\n",
    "    team_url = teams_url_dom + teams_path_list[i]\n",
    "    \n",
    "    #チームページからHTMLを取得する\n",
    "    match_html = requests.get(team_url).text\n",
    "\n",
    "    # 取得したHTMLデータを変数に格納\n",
    "    soup = BeautifulSoup(match_html, 'html.parser')\n",
    "    \n",
    "    # 指数一覧表から、（href属性で\"s=\"を持つ箇所を対象に18*8(144)セル分だけデータを取り出す\n",
    "    data_en = soup.find_all('span', class_='eng')\n",
    "    team_list = np.append(team_list, data_en[1].text)\n",
    "    time.sleep(2)\n",
    "\n",
    "# チーム名を順番にデータフレームに変換する\n",
    "df_team = pd.DataFrame(team_list, columns=['team.name']).reset_index()"
   ]
  },
  {
   "cell_type": "code",
   "execution_count": 28,
   "metadata": {},
   "outputs": [],
   "source": [
    "# データフレームに結合\n",
    "df_team_style = pd.merge(df_team, df_params, on='index').drop(columns={'index'})"
   ]
  },
  {
   "cell_type": "code",
   "execution_count": 29,
   "metadata": {},
   "outputs": [],
   "source": [
    "df_team_style.to_csv('team_style_2023.csv', index=False)"
   ]
  },
  {
   "cell_type": "code",
   "execution_count": null,
   "metadata": {},
   "outputs": [],
   "source": []
  }
 ],
 "metadata": {
  "kernelspec": {
   "display_name": "sk_py311",
   "language": "python",
   "name": "sk_py311"
  },
  "language_info": {
   "codemirror_mode": {
    "name": "ipython",
    "version": 3
   },
   "file_extension": ".py",
   "mimetype": "text/x-python",
   "name": "python",
   "nbconvert_exporter": "python",
   "pygments_lexer": "ipython3",
   "version": "3.11.5"
  }
 },
 "nbformat": 4,
 "nbformat_minor": 2
}
